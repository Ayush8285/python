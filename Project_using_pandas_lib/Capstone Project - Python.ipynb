{
 "cells": [
  {
   "cell_type": "markdown",
   "id": "9c738764",
   "metadata": {},
   "source": [
    "# Capstone Project -  Python Fundamentals"
   ]
  },
  {
   "cell_type": "markdown",
   "id": "84d4b683",
   "metadata": {},
   "source": [
    "###### Task 1\n",
    "There are three different tables as given above. Please make three dataframe in \n",
    "python and save them as three .csv files. From Task 2 to Task 10, use the saved\n",
    ".csv files only."
   ]
  },
  {
   "cell_type": "code",
   "execution_count": 60,
   "id": "fec9773f",
   "metadata": {},
   "outputs": [
    {
     "name": "stdout",
     "output_type": "stream",
     "text": [
      "          Employee DataFrame\n",
      "     ID             Name Gender     City  Age\n",
      "0  A001       John Alter      M    Paris   25\n",
      "1  A002  Alice Luxumberg      F   London   27\n",
      "2  A003    Tom Sabestine      M   Berlin   29\n",
      "3  A004       Nina Adgra      F  Newyork   31\n",
      "4  A005        Amy Johny      F   Madrid   30\n",
      "           Seniority Level DataFrame\n",
      "     ID  Designation Level\n",
      "0  A001                  2\n",
      "1  A002                  2\n",
      "2  A003                  3\n",
      "3  A004                  2\n",
      "4  A005                  3\n",
      "            Project DataFrame\n",
      "      ID     Project       Cost    Status\n",
      "0   A001   Project 1  1002000.0  Finished\n",
      "1   A002   Project 2  2000000.0   Ongoing\n",
      "2   A003   Project 3  4500000.0  Finished\n",
      "3   A004   Project 4  5500000.0   Ongoing\n",
      "4   A005   Project 5        NaN  Finished\n",
      "5   A002   Project 6   680000.0    Failed\n",
      "6   A005   Project 7   400000.0  Finished\n",
      "7   A003   Project 8   350000.0    Failed\n",
      "8   A001   Project 9        NaN   Ongoing\n",
      "9   A003  Project 10   300000.0  Finished\n",
      "10  A001  Project 11  2000000.0    Failed\n",
      "11  A004  Project 12  1000000.0   Ongoing\n",
      "12  A004  Project 13  3000000.0  Finished\n",
      "13  A005  Project 14   200000.0  Finished\n"
     ]
    }
   ],
   "source": [
    "import pandas as pd  # Import the pandas library and assign it the alias 'pd'\n",
    "\n",
    "# Create the Employee DataFrame\n",
    "employee_data = {\n",
    "    'ID': ['A001', 'A002', 'A003', 'A004', 'A005'],  # Employee IDs\n",
    "    'Name': ['John Alter', 'Alice Luxumberg', 'Tom Sabestine', 'Nina Adgra', 'Amy Johny'],  # Employee names\n",
    "    'Gender': ['M', 'F', 'M', 'F', 'F'],  # Employee genders\n",
    "    'City': ['Paris', 'London', 'Berlin', 'Newyork', 'Madrid'],  # Employee cities\n",
    "    'Age': [25, 27, 29, 31, 30]  # Employee ages\n",
    "}\n",
    "employee_df = pd.DataFrame(employee_data)  # Create the DataFrame from the data\n",
    "employee_df.to_csv('employee.csv', index=False)  # Save the DataFrame to a CSV file named 'employee.csv'\n",
    "print(\"          Employee DataFrame\")\n",
    "print(employee_df)\n",
    "\n",
    "# Create the Seniority Level DataFrame\n",
    "seniority_data = {\n",
    "    'ID': ['A001', 'A002', 'A003', 'A004', 'A005'],  # Employee IDs\n",
    "    'Designation Level': [2, 2, 3, 2, 3]  # Employee seniority levels\n",
    "}\n",
    "seniority_df = pd.DataFrame(seniority_data)  # Create the DataFrame from the data\n",
    "seniority_df.to_csv('seniority.csv', index=False)  # Save the DataFrame to a CSV file named 'seniority.csv'\n",
    "print(\"           Seniority Level DataFrame\")\n",
    "print(seniority_df)\n",
    "\n",
    "# Create the Project DataFrame\n",
    "project_data = {\n",
    "    'ID': ['A001', 'A002', 'A003', 'A004', 'A005', 'A002', 'A005', 'A003', 'A001', 'A003', 'A001', 'A004', 'A004', 'A005'],# Project IDs\n",
    "    'Project': ['Project 1', 'Project 2', 'Project 3', 'Project 4', 'Project 5', 'Project 6', 'Project 7', 'Project 8', 'Project 9', 'Project 10', 'Project 11', 'Project 12', 'Project 13', 'Project 14'],# Employee IDs associated with each project\n",
    "    'Cost': [1002000, 2000000, 4500000, 5500000, None, 680000, 400000, 350000, None, 300000, 2000000, 1000000, 3000000, 200000],# Project costs (with a missing value)\n",
    "    'Status': ['Finished', 'Ongoing', 'Finished', 'Ongoing', 'Finished', 'Failed', 'Finished', 'Failed', 'Ongoing', 'Finished', 'Failed', 'Ongoing', 'Finished', 'Finished']# Project statuses \n",
    "}\n",
    "project_df = pd.DataFrame(project_data)  # Create the DataFrame from the data\n",
    "project_df.to_csv('project.csv', index=False)  # Save the DataFrame to a CSV file named 'project.csv'\n",
    "print(\"            Project DataFrame\")\n",
    "print(project_df)"
   ]
  },
  {
   "cell_type": "markdown",
   "id": "b7e321b0",
   "metadata": {},
   "source": [
    "###### Task 2\n",
    "The cost column in the dataframe “Project” has some missing values. Your task \n",
    "is to compute these missing values. Replace the missing values by running \n",
    "average. You should use the “For” loop for this task."
   ]
  },
  {
   "cell_type": "code",
   "execution_count": 61,
   "id": "af3fa7a5",
   "metadata": {},
   "outputs": [
    {
     "name": "stdout",
     "output_type": "stream",
     "text": [
      "      ID     Project          Cost    Status\n",
      "0   A001   Project 1  1.002000e+06  Finished\n",
      "1   A002   Project 2  2.000000e+06   Ongoing\n",
      "2   A003   Project 3  4.500000e+06  Finished\n",
      "3   A004   Project 4  5.500000e+06   Ongoing\n",
      "4   A005   Project 5  3.250500e+06  Finished\n",
      "5   A002   Project 6  6.800000e+05    Failed\n",
      "6   A005   Project 7  4.000000e+05  Finished\n",
      "7   A003   Project 8  3.500000e+05    Failed\n",
      "8   A001   Project 9  2.061714e+06   Ongoing\n",
      "9   A003  Project 10  3.000000e+05  Finished\n",
      "10  A001  Project 11  2.000000e+06    Failed\n",
      "11  A004  Project 12  1.000000e+06   Ongoing\n",
      "12  A004  Project 13  3.000000e+06  Finished\n",
      "13  A005  Project 14  2.000000e+05  Finished\n"
     ]
    }
   ],
   "source": [
    "import pandas as pd  # Import the pandas library and assign it the alias 'pd'\n",
    "\n",
    "#reading the project csv file\n",
    "project_df = pd.read_csv(\"project.csv\") \n",
    "\n",
    "# Initialize the running average\n",
    "running_average = 0\n",
    "\n",
    "# Initialize the count of non-missing values\n",
    "count = 0\n",
    "\n",
    "# Iterate over each row in the DataFrame\n",
    "for index, row in project_df.iterrows():\n",
    "    # Check if the 'Cost' value is missing (NaN)\n",
    "    if pd.isna(row['Cost']):\n",
    "        # If missing, replace with the running average\n",
    "        project_df.loc[index, 'Cost'] = running_average\n",
    "    else:\n",
    "        # If not missing, update the running average\n",
    "        running_average = (running_average * count + row['Cost']) / (count + 1)\n",
    "        count += 1\n",
    "\n",
    "#writing into the file\n",
    "project_df.to_csv('project.csv', index=False)\n",
    "        \n",
    "# Print the updated DataFrame\n",
    "print(project_df)"
   ]
  },
  {
   "cell_type": "markdown",
   "id": "dde4e80a",
   "metadata": {},
   "source": [
    "###### Task 3\n",
    "Split the name column in the Employee dataframe into two new columns “First Name”, and “Last Name” and remove the older “name” column."
   ]
  },
  {
   "cell_type": "code",
   "execution_count": 62,
   "id": "0058ff17",
   "metadata": {},
   "outputs": [
    {
     "name": "stdout",
     "output_type": "stream",
     "text": [
      "\n",
      "Updated DataFrame with new columns:\n",
      "     ID             Name Gender     City  Age First Name  Last Name\n",
      "0  A001       John Alter      M    Paris   25       John      Alter\n",
      "1  A002  Alice Luxumberg      F   London   27      Alice  Luxumberg\n",
      "2  A003    Tom Sabestine      M   Berlin   29        Tom  Sabestine\n",
      "3  A004       Nina Adgra      F  Newyork   31       Nina      Adgra\n",
      "4  A005        Amy Johny      F   Madrid   30        Amy      Johny\n",
      "\n",
      "Final DataFrame with 'Name' column removed:\n",
      "     ID Gender     City  Age First Name  Last Name\n",
      "0  A001      M    Paris   25       John      Alter\n",
      "1  A002      F   London   27      Alice  Luxumberg\n",
      "2  A003      M   Berlin   29        Tom  Sabestine\n",
      "3  A004      F  Newyork   31       Nina      Adgra\n",
      "4  A005      F   Madrid   30        Amy      Johny\n"
     ]
    }
   ],
   "source": [
    "import pandas as pd # Import the pandas library and assign it the alias 'pd'\n",
    "\n",
    "#reading the employee csv file\n",
    "employee_df = pd.read_csv('employee.csv')\n",
    "\n",
    "# Split the 'Name' column into 'First Name' and 'Last Name' columns\n",
    "employee_df[['First Name', 'Last Name']] = employee_df['Name'].str.split(' ', expand=True)\n",
    "\n",
    "# Print the updated DataFrame with new columns\n",
    "print(\"\\nUpdated DataFrame with new columns:\")\n",
    "print(employee_df)\n",
    "\n",
    "# Drop the original 'Name' column\n",
    "employee_df = employee_df.drop('Name', axis=1)\n",
    "\n",
    "# Save the DataFrame to a CSV file named 'employee.csv'\n",
    "employee_df.to_csv('employee.csv', index=False) \n",
    "\n",
    "# Print the final DataFrame with the 'Name' column removed\n",
    "print(\"\\nFinal DataFrame with 'Name' column removed:\")\n",
    "print(employee_df)"
   ]
  },
  {
   "cell_type": "markdown",
   "id": "65b311e3",
   "metadata": {},
   "source": [
    "###### Task 4\n",
    "Join all three dataframes in one single dataframe. Name it “Final”"
   ]
  },
  {
   "cell_type": "code",
   "execution_count": 63,
   "id": "c68d4ae5",
   "metadata": {},
   "outputs": [
    {
     "name": "stdout",
     "output_type": "stream",
     "text": [
      "Final DataFrame:\n",
      "      ID Gender     City  Age First Name  Last Name  Designation Level  \\\n",
      "0   A001      M    Paris   25       John      Alter                  2   \n",
      "1   A001      M    Paris   25       John      Alter                  2   \n",
      "2   A001      M    Paris   25       John      Alter                  2   \n",
      "3   A002      F   London   27      Alice  Luxumberg                  2   \n",
      "4   A002      F   London   27      Alice  Luxumberg                  2   \n",
      "5   A003      M   Berlin   29        Tom  Sabestine                  3   \n",
      "6   A003      M   Berlin   29        Tom  Sabestine                  3   \n",
      "7   A003      M   Berlin   29        Tom  Sabestine                  3   \n",
      "8   A004      F  Newyork   31       Nina      Adgra                  2   \n",
      "9   A004      F  Newyork   31       Nina      Adgra                  2   \n",
      "10  A004      F  Newyork   31       Nina      Adgra                  2   \n",
      "11  A005      F   Madrid   30        Amy      Johny                  3   \n",
      "12  A005      F   Madrid   30        Amy      Johny                  3   \n",
      "13  A005      F   Madrid   30        Amy      Johny                  3   \n",
      "\n",
      "       Project          Cost    Status  \n",
      "0    Project 1  1.002000e+06  Finished  \n",
      "1    Project 9  2.061714e+06   Ongoing  \n",
      "2   Project 11  2.000000e+06    Failed  \n",
      "3    Project 2  2.000000e+06   Ongoing  \n",
      "4    Project 6  6.800000e+05    Failed  \n",
      "5    Project 3  4.500000e+06  Finished  \n",
      "6    Project 8  3.500000e+05    Failed  \n",
      "7   Project 10  3.000000e+05  Finished  \n",
      "8    Project 4  5.500000e+06   Ongoing  \n",
      "9   Project 12  1.000000e+06   Ongoing  \n",
      "10  Project 13  3.000000e+06  Finished  \n",
      "11   Project 5  3.250500e+06  Finished  \n",
      "12   Project 7  4.000000e+05  Finished  \n",
      "13  Project 14  2.000000e+05  Finished  \n"
     ]
    }
   ],
   "source": [
    " # Import the pandas library and assign it the alias 'pd'\n",
    "import pandas as pd\n",
    "\n",
    "#reading the project csv file\n",
    "project_df = pd.read_csv(\"project.csv\") \n",
    "\n",
    "#reading the employee csv file\n",
    "employee_df = pd.read_csv('employee.csv')\n",
    "\n",
    "#reading the Seniority csv file\n",
    "seniority_df = pd.read_csv('seniority.csv')\n",
    "\n",
    "# Merge employee_df and seniority_level_df on 'ID' column\n",
    "merged_df = pd.merge(employee_df, seniority_df, on='ID')\n",
    "\n",
    "# Merge merged_df and project_df on 'ID' column\n",
    "final_df = pd.merge(merged_df, project_df, on='ID')\n",
    "\n",
    "# Print the final DataFrame\n",
    "print(\"Final DataFrame:\")\n",
    "print(final_df)"
   ]
  },
  {
   "cell_type": "markdown",
   "id": "ee26cebe",
   "metadata": {},
   "source": [
    "###### Task 5\n",
    "Add a new bonus column in the Final dataframe. Give a 5% bonus concerning project cost only to employees who have finished the projects."
   ]
  },
  {
   "cell_type": "code",
   "execution_count": 64,
   "id": "6f6f674c",
   "metadata": {},
   "outputs": [
    {
     "name": "stdout",
     "output_type": "stream",
     "text": [
      "Final DataFrame with Bonus:\n",
      "      ID Gender     City  Age First Name  Last Name  Designation Level  \\\n",
      "0   A001      M    Paris   25       John      Alter                  2   \n",
      "1   A001      M    Paris   25       John      Alter                  2   \n",
      "2   A001      M    Paris   25       John      Alter                  2   \n",
      "3   A002      F   London   27      Alice  Luxumberg                  2   \n",
      "4   A002      F   London   27      Alice  Luxumberg                  2   \n",
      "5   A003      M   Berlin   29        Tom  Sabestine                  3   \n",
      "6   A003      M   Berlin   29        Tom  Sabestine                  3   \n",
      "7   A003      M   Berlin   29        Tom  Sabestine                  3   \n",
      "8   A004      F  Newyork   31       Nina      Adgra                  2   \n",
      "9   A004      F  Newyork   31       Nina      Adgra                  2   \n",
      "10  A004      F  Newyork   31       Nina      Adgra                  2   \n",
      "11  A005      F   Madrid   30        Amy      Johny                  3   \n",
      "12  A005      F   Madrid   30        Amy      Johny                  3   \n",
      "13  A005      F   Madrid   30        Amy      Johny                  3   \n",
      "\n",
      "       Project          Cost    Status   Bonus  \n",
      "0    Project 1  1.002000e+06  Finished   50100  \n",
      "1    Project 9  2.061714e+06   Ongoing       0  \n",
      "2   Project 11  2.000000e+06    Failed       0  \n",
      "3    Project 2  2.000000e+06   Ongoing       0  \n",
      "4    Project 6  6.800000e+05    Failed       0  \n",
      "5    Project 3  4.500000e+06  Finished  225000  \n",
      "6    Project 8  3.500000e+05    Failed       0  \n",
      "7   Project 10  3.000000e+05  Finished   15000  \n",
      "8    Project 4  5.500000e+06   Ongoing       0  \n",
      "9   Project 12  1.000000e+06   Ongoing       0  \n",
      "10  Project 13  3.000000e+06  Finished  150000  \n",
      "11   Project 5  3.250500e+06  Finished  162525  \n",
      "12   Project 7  4.000000e+05  Finished   20000  \n",
      "13  Project 14  2.000000e+05  Finished   10000  \n"
     ]
    }
   ],
   "source": [
    "# Calculate the bonus for each employee based on the project cost\n",
    "final_df['Bonus'] = 0  # Initialize the bonus column with 0 values\n",
    "\n",
    "# Iterate over each row in the Final DataFrame\n",
    "for index, row in final_df.iterrows():\n",
    "    # Check if the project status is 'Finished'\n",
    "    if row['Status'] == 'Finished':\n",
    "        # Calculate the bonus as 5% of the project cost\n",
    "        bonus = row['Cost'] * 0.05\n",
    "        # Update the bonus column with the calculated value\n",
    "        final_df.loc[index, 'Bonus'] = bonus\n",
    "\n",
    "# Print the updated Final DataFrame\n",
    "print(\"Final DataFrame with Bonus:\")\n",
    "print(final_df)"
   ]
  },
  {
   "cell_type": "markdown",
   "id": "f8ca5ecd",
   "metadata": {},
   "source": [
    "###### Task 6\n",
    "Demote the designation level by 1, whose projects have status “fail”. Delete the\n",
    "employees record whose designation level is above 4."
   ]
  },
  {
   "cell_type": "code",
   "execution_count": 65,
   "id": "213122ea",
   "metadata": {},
   "outputs": [
    {
     "name": "stdout",
     "output_type": "stream",
     "text": [
      "Final DataFrame after demotion:\n",
      "      ID Gender     City  Age First Name  Last Name  Designation Level  \\\n",
      "0   A001      M    Paris   25       John      Alter                  2   \n",
      "1   A001      M    Paris   25       John      Alter                  2   \n",
      "2   A001      M    Paris   25       John      Alter                  1   \n",
      "3   A002      F   London   27      Alice  Luxumberg                  2   \n",
      "4   A002      F   London   27      Alice  Luxumberg                  1   \n",
      "5   A003      M   Berlin   29        Tom  Sabestine                  3   \n",
      "6   A003      M   Berlin   29        Tom  Sabestine                  2   \n",
      "7   A003      M   Berlin   29        Tom  Sabestine                  3   \n",
      "8   A004      F  Newyork   31       Nina      Adgra                  2   \n",
      "9   A004      F  Newyork   31       Nina      Adgra                  2   \n",
      "10  A004      F  Newyork   31       Nina      Adgra                  2   \n",
      "11  A005      F   Madrid   30        Amy      Johny                  3   \n",
      "12  A005      F   Madrid   30        Amy      Johny                  3   \n",
      "13  A005      F   Madrid   30        Amy      Johny                  3   \n",
      "\n",
      "       Project          Cost    Status   Bonus  \n",
      "0    Project 1  1.002000e+06  Finished   50100  \n",
      "1    Project 9  2.061714e+06   Ongoing       0  \n",
      "2   Project 11  2.000000e+06    Failed       0  \n",
      "3    Project 2  2.000000e+06   Ongoing       0  \n",
      "4    Project 6  6.800000e+05    Failed       0  \n",
      "5    Project 3  4.500000e+06  Finished  225000  \n",
      "6    Project 8  3.500000e+05    Failed       0  \n",
      "7   Project 10  3.000000e+05  Finished   15000  \n",
      "8    Project 4  5.500000e+06   Ongoing       0  \n",
      "9   Project 12  1.000000e+06   Ongoing       0  \n",
      "10  Project 13  3.000000e+06  Finished  150000  \n",
      "11   Project 5  3.250500e+06  Finished  162525  \n",
      "12   Project 7  4.000000e+05  Finished   20000  \n",
      "13  Project 14  2.000000e+05  Finished   10000  \n",
      "\n",
      "Final DataFrame after deletion:\n",
      "      ID Gender     City  Age First Name  Last Name  Designation Level  \\\n",
      "0   A001      M    Paris   25       John      Alter                  2   \n",
      "1   A001      M    Paris   25       John      Alter                  2   \n",
      "2   A001      M    Paris   25       John      Alter                  1   \n",
      "3   A002      F   London   27      Alice  Luxumberg                  2   \n",
      "4   A002      F   London   27      Alice  Luxumberg                  1   \n",
      "5   A003      M   Berlin   29        Tom  Sabestine                  3   \n",
      "6   A003      M   Berlin   29        Tom  Sabestine                  2   \n",
      "7   A003      M   Berlin   29        Tom  Sabestine                  3   \n",
      "8   A004      F  Newyork   31       Nina      Adgra                  2   \n",
      "9   A004      F  Newyork   31       Nina      Adgra                  2   \n",
      "10  A004      F  Newyork   31       Nina      Adgra                  2   \n",
      "11  A005      F   Madrid   30        Amy      Johny                  3   \n",
      "12  A005      F   Madrid   30        Amy      Johny                  3   \n",
      "13  A005      F   Madrid   30        Amy      Johny                  3   \n",
      "\n",
      "       Project          Cost    Status   Bonus  \n",
      "0    Project 1  1.002000e+06  Finished   50100  \n",
      "1    Project 9  2.061714e+06   Ongoing       0  \n",
      "2   Project 11  2.000000e+06    Failed       0  \n",
      "3    Project 2  2.000000e+06   Ongoing       0  \n",
      "4    Project 6  6.800000e+05    Failed       0  \n",
      "5    Project 3  4.500000e+06  Finished  225000  \n",
      "6    Project 8  3.500000e+05    Failed       0  \n",
      "7   Project 10  3.000000e+05  Finished   15000  \n",
      "8    Project 4  5.500000e+06   Ongoing       0  \n",
      "9   Project 12  1.000000e+06   Ongoing       0  \n",
      "10  Project 13  3.000000e+06  Finished  150000  \n",
      "11   Project 5  3.250500e+06  Finished  162525  \n",
      "12   Project 7  4.000000e+05  Finished   20000  \n",
      "13  Project 14  2.000000e+05  Finished   10000  \n"
     ]
    }
   ],
   "source": [
    "# Demote the designation level by 1 for employees whose projects have status \"Failed\"\n",
    "final_df.loc[final_df['Status'] == 'Failed', 'Designation Level'] -= 1\n",
    "\n",
    "# Print the updated Final DataFrame after demotion\n",
    "print(\"Final DataFrame after demotion:\")\n",
    "print(final_df)\n",
    "print()\n",
    "\n",
    "# Delete the employees' records whose designation level is above 4\n",
    "final_df = final_df[final_df['Designation Level'] <= 4]\n",
    "\n",
    "# Print the updated Final DataFrame after deletion\n",
    "print(\"Final DataFrame after deletion:\")\n",
    "print(final_df)"
   ]
  },
  {
   "cell_type": "markdown",
   "id": "9147b36e",
   "metadata": {},
   "source": [
    "###### Task 7\n",
    "Add “Mr.” and “Mrs.” to the first name column and drop the gender column."
   ]
  },
  {
   "cell_type": "code",
   "execution_count": 67,
   "id": "a02e16c1",
   "metadata": {},
   "outputs": [
    {
     "name": "stdout",
     "output_type": "stream",
     "text": [
      "      ID     City  Age  First Name  Last Name  Designation Level     Project  \\\n",
      "0   A001    Paris   25    Mr. John      Alter                  2   Project 1   \n",
      "1   A001    Paris   25    Mr. John      Alter                  2   Project 9   \n",
      "2   A001    Paris   25    Mr. John      Alter                  1  Project 11   \n",
      "3   A002   London   27  Mrs. Alice  Luxumberg                  2   Project 2   \n",
      "4   A002   London   27  Mrs. Alice  Luxumberg                  1   Project 6   \n",
      "5   A003   Berlin   29     Mr. Tom  Sabestine                  3   Project 3   \n",
      "6   A003   Berlin   29     Mr. Tom  Sabestine                  2   Project 8   \n",
      "7   A003   Berlin   29     Mr. Tom  Sabestine                  3  Project 10   \n",
      "8   A004  Newyork   31   Mrs. Nina      Adgra                  2   Project 4   \n",
      "9   A004  Newyork   31   Mrs. Nina      Adgra                  2  Project 12   \n",
      "10  A004  Newyork   31   Mrs. Nina      Adgra                  2  Project 13   \n",
      "11  A005   Madrid   30    Mrs. Amy      Johny                  3   Project 5   \n",
      "12  A005   Madrid   30    Mrs. Amy      Johny                  3   Project 7   \n",
      "13  A005   Madrid   30    Mrs. Amy      Johny                  3  Project 14   \n",
      "\n",
      "            Cost    Status   Bonus  \n",
      "0   1.002000e+06  Finished   50100  \n",
      "1   2.061714e+06   Ongoing       0  \n",
      "2   2.000000e+06    Failed       0  \n",
      "3   2.000000e+06   Ongoing       0  \n",
      "4   6.800000e+05    Failed       0  \n",
      "5   4.500000e+06  Finished  225000  \n",
      "6   3.500000e+05    Failed       0  \n",
      "7   3.000000e+05  Finished   15000  \n",
      "8   5.500000e+06   Ongoing       0  \n",
      "9   1.000000e+06   Ongoing       0  \n",
      "10  3.000000e+06  Finished  150000  \n",
      "11  3.250500e+06  Finished  162525  \n",
      "12  4.000000e+05  Finished   20000  \n",
      "13  2.000000e+05  Finished   10000  \n"
     ]
    }
   ],
   "source": [
    "import numpy as np\n",
    "\n",
    "# Check if the 'Gender' column exists\n",
    "if 'Gender' in final_df.columns:\n",
    "    # Add \"Mr.\" to the first name column for male employees\n",
    "    final_df['First Name'] = np.where(final_df['Gender'] == 'M', 'Mr. '+ final_df['First Name'], final_df['First Name'])\n",
    "\n",
    "    # Add \"Mrs.\" to the first name column for female employees\n",
    "    final_df['First Name'] = np.where(final_df['Gender'] == 'F', 'Mrs. '+ final_df['First Name'], final_df['First Name'])\n",
    "\n",
    "    # Drop the gender column\n",
    "    final_df = final_df.drop('Gender', axis=1)\n",
    "else:\n",
    "    print(\"The 'Gender' column does not exist in the DataFrame.\")\n",
    "    \n",
    "# Print the updated Final DataFrame\n",
    "print(final_df)"
   ]
  },
  {
   "cell_type": "markdown",
   "id": "a2ce400f",
   "metadata": {},
   "source": [
    "###### Task 8\n",
    "Promote designation level by 1 for the employees whose age is more than 29 years using IF condition."
   ]
  },
  {
   "cell_type": "code",
   "execution_count": 68,
   "id": "0709c1c2",
   "metadata": {},
   "outputs": [
    {
     "name": "stdout",
     "output_type": "stream",
     "text": [
      "Final DataFrame after promoting designation level:\n",
      "      ID     City  Age  First Name  Last Name  Designation Level     Project  \\\n",
      "0   A001    Paris   25    Mr. John      Alter                  2   Project 1   \n",
      "1   A001    Paris   25    Mr. John      Alter                  2   Project 9   \n",
      "2   A001    Paris   25    Mr. John      Alter                  1  Project 11   \n",
      "3   A002   London   27  Mrs. Alice  Luxumberg                  2   Project 2   \n",
      "4   A002   London   27  Mrs. Alice  Luxumberg                  1   Project 6   \n",
      "5   A003   Berlin   29     Mr. Tom  Sabestine                  3   Project 3   \n",
      "6   A003   Berlin   29     Mr. Tom  Sabestine                  2   Project 8   \n",
      "7   A003   Berlin   29     Mr. Tom  Sabestine                  3  Project 10   \n",
      "8   A004  Newyork   31   Mrs. Nina      Adgra                  3   Project 4   \n",
      "9   A004  Newyork   31   Mrs. Nina      Adgra                  3  Project 12   \n",
      "10  A004  Newyork   31   Mrs. Nina      Adgra                  3  Project 13   \n",
      "11  A005   Madrid   30    Mrs. Amy      Johny                  4   Project 5   \n",
      "12  A005   Madrid   30    Mrs. Amy      Johny                  4   Project 7   \n",
      "13  A005   Madrid   30    Mrs. Amy      Johny                  4  Project 14   \n",
      "\n",
      "            Cost    Status   Bonus  \n",
      "0   1.002000e+06  Finished   50100  \n",
      "1   2.061714e+06   Ongoing       0  \n",
      "2   2.000000e+06    Failed       0  \n",
      "3   2.000000e+06   Ongoing       0  \n",
      "4   6.800000e+05    Failed       0  \n",
      "5   4.500000e+06  Finished  225000  \n",
      "6   3.500000e+05    Failed       0  \n",
      "7   3.000000e+05  Finished   15000  \n",
      "8   5.500000e+06   Ongoing       0  \n",
      "9   1.000000e+06   Ongoing       0  \n",
      "10  3.000000e+06  Finished  150000  \n",
      "11  3.250500e+06  Finished  162525  \n",
      "12  4.000000e+05  Finished   20000  \n",
      "13  2.000000e+05  Finished   10000  \n"
     ]
    }
   ],
   "source": [
    "# Check if the 'Age' column exists in the DataFrame\n",
    "if 'Age' in final_df.columns:\n",
    "    # Iterate through each row in the DataFrame\n",
    "    for index, row in final_df.iterrows():\n",
    "        # Check if the employee's age is more than 29 years\n",
    "        if row['Age'] > 29:\n",
    "            # Get the current designation level\n",
    "            designation_level = row['Designation Level']\n",
    "\n",
    "            # Promote the designation level by 1\n",
    "            new_designation_level = designation_level + 1\n",
    "\n",
    "            # Update the Designation Level column with the new value\n",
    "            final_df.at[index, 'Designation Level'] = new_designation_level\n",
    "\n",
    "    # Print the updated Final DataFrame\n",
    "    print(\"Final DataFrame after promoting designation level:\")\n",
    "    print(final_df)\n",
    "else:\n",
    "    print(\"The 'Age' column does not exist in the DataFrame.\")"
   ]
  },
  {
   "cell_type": "markdown",
   "id": "35bf9199",
   "metadata": {},
   "source": [
    "###### Task 9\n",
    "Add the cost of all projects for each Employee and save it in new dataframe\n",
    "“TotalProjCost” with three columns ID, First Name, and Total cost"
   ]
  },
  {
   "cell_type": "code",
   "execution_count": 69,
   "id": "cb65b506",
   "metadata": {},
   "outputs": [
    {
     "name": "stdout",
     "output_type": "stream",
     "text": [
      "TotalProjCost DataFrame:\n",
      "     ID  First Name    Total Cost\n",
      "0  A001    Mr. John  5.063714e+06\n",
      "1  A002  Mrs. Alice  2.680000e+06\n",
      "2  A003     Mr. Tom  5.150000e+06\n",
      "3  A004   Mrs. Nina  9.500000e+06\n",
      "4  A005    Mrs. Amy  3.850500e+06\n"
     ]
    }
   ],
   "source": [
    "# Create a list to store the total project cost for each employee\n",
    "total_proj_cost_list = []\n",
    "\n",
    "# Iterate through each unique employee ID\n",
    "for employee_id in final_df['ID'].unique():\n",
    "    # Filter the DataFrame to get the projects for the current employee\n",
    "    employee_projects = final_df[final_df['ID'] == employee_id]\n",
    "\n",
    "    # Calculate the total project cost for the current employee\n",
    "    total_cost = employee_projects['Cost'].sum()\n",
    "\n",
    "    # Get the first name of the current employee\n",
    "    first_name = employee_projects['First Name'].iloc[0]\n",
    "\n",
    "    # Create a new DataFrame for the current employee\n",
    "    employee_total_cost_df = pd.DataFrame({'ID': [employee_id], 'First Name': [first_name], 'Total Cost': [total_cost]})\n",
    "\n",
    "    # Append the new DataFrame to the list\n",
    "    total_proj_cost_list.append(employee_total_cost_df)\n",
    "\n",
    "# Concatenate the list of DataFrames into a single DataFrame\n",
    "TotalProjCost = pd.concat(total_proj_cost_list, ignore_index=True)\n",
    "\n",
    "# Print the TotalProjCost DataFrame\n",
    "print(\"TotalProjCost DataFrame:\")\n",
    "print(TotalProjCost)"
   ]
  },
  {
   "cell_type": "markdown",
   "id": "3ebb9351",
   "metadata": {},
   "source": [
    "###### Task 10\n",
    "Print all the employee details whose city name contains the letter “o” in it."
   ]
  },
  {
   "cell_type": "code",
   "execution_count": 70,
   "id": "39eb9526",
   "metadata": {},
   "outputs": [
    {
     "name": "stdout",
     "output_type": "stream",
     "text": [
      "Employees whose city name contains the letter 'o':\n",
      "      ID     City  Age  First Name  Last Name  Designation Level     Project  \\\n",
      "3   A002   London   27  Mrs. Alice  Luxumberg                  2   Project 2   \n",
      "4   A002   London   27  Mrs. Alice  Luxumberg                  1   Project 6   \n",
      "8   A004  Newyork   31   Mrs. Nina      Adgra                  3   Project 4   \n",
      "9   A004  Newyork   31   Mrs. Nina      Adgra                  3  Project 12   \n",
      "10  A004  Newyork   31   Mrs. Nina      Adgra                  3  Project 13   \n",
      "\n",
      "         Cost    Status   Bonus  \n",
      "3   2000000.0   Ongoing       0  \n",
      "4    680000.0    Failed       0  \n",
      "8   5500000.0   Ongoing       0  \n",
      "9   1000000.0   Ongoing       0  \n",
      "10  3000000.0  Finished  150000  \n"
     ]
    }
   ],
   "source": [
    "# Filter the DataFrame to get the employees whose city name contains the letter \"o\"\n",
    "employees_with_o_in_city = final_df[final_df['City'].str.contains('o', case=False)]\n",
    "\n",
    "# Print the resulting DataFrame\n",
    "print(\"Employees whose city name contains the letter 'o':\")\n",
    "print(employees_with_o_in_city)"
   ]
  }
 ],
 "metadata": {
  "kernelspec": {
   "display_name": "Python 3 (ipykernel)",
   "language": "python",
   "name": "python3"
  },
  "language_info": {
   "codemirror_mode": {
    "name": "ipython",
    "version": 3
   },
   "file_extension": ".py",
   "mimetype": "text/x-python",
   "name": "python",
   "nbconvert_exporter": "python",
   "pygments_lexer": "ipython3",
   "version": "3.9.12"
  }
 },
 "nbformat": 4,
 "nbformat_minor": 5
}
